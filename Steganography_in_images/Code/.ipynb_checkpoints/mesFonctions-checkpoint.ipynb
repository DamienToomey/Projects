{
 "cells": [
  {
   "cell_type": "markdown",
   "metadata": {},
   "source": [
    "# Imports"
   ]
  },
  {
   "cell_type": "code",
   "execution_count": 2,
   "metadata": {},
   "outputs": [],
   "source": [
    "import matplotlib.pyplot as plt\n",
    "\n",
    "import os # récupérer le répertoire courant\n",
    "\n",
    "# sudo pip3 install imageio\n",
    "from imageio import imread # lire l'image en uint8"
   ]
  },
  {
   "cell_type": "markdown",
   "metadata": {},
   "source": [
    "# Fonction initialisation"
   ]
  },
  {
   "cell_type": "code",
   "execution_count": 3,
   "metadata": {},
   "outputs": [],
   "source": [
    "def initialisation(nomImage):    \n",
    "    # Récupération des chemins absolus des répertoires Donnees et Resultats\n",
    "    pathOrignal = os.getcwd()\n",
    "    pathOriginalReduit=pathOrignal[0:30]\n",
    "\n",
    "    pathDonnees=pathOriginalReduit+\"Donnees/\"\n",
    "    print(pathDonnees)\n",
    "\n",
    "    pathResultats=pathOriginalReduit+\"Resultats/\"\n",
    "    print(pathResultats)\n",
    "\n",
    "    # Image originale (RVB : Rouge, Vert, Bleu)\n",
    "    try:\n",
    "        image = imread(pathDonnees+nomImage)    \n",
    "\n",
    "        if (len(image.shape)==3):\n",
    "            print(\"Type\", image.dtype)\n",
    "            n,p,z=image.shape\n",
    "            print(\"Dimensions image : n =\", n, \"; p =\", p, \"; z =\", z)\n",
    "        else:\n",
    "            raise Exception(\"Les données n'ont pas les bonnes dimensions \"+str(image.shape)+\" (ce n'est pas une image RVB)\")\n",
    "        #endif\n",
    "\n",
    "        plt.figure(figsize = (50,10))\n",
    "        plt.imshow(image)\n",
    "        plt.title('Image Originale'), plt.xticks([]), plt.yticks([])\n",
    "        plt.show()\n",
    "    except IOError:\n",
    "        raise IOError(\"Le fichier \"+pathDonnees+nomImage+\" est introuvable\")    \n",
    "    \n",
    "    return image,n,p,z,pathDonnees,pathResultats\n",
    "#enddef"
   ]
  }
 ],
 "metadata": {
  "kernelspec": {
   "display_name": "Python 3",
   "language": "python",
   "name": "python3"
  },
  "language_info": {
   "codemirror_mode": {
    "name": "ipython",
    "version": 3
   },
   "file_extension": ".py",
   "mimetype": "text/x-python",
   "name": "python",
   "nbconvert_exporter": "python",
   "pygments_lexer": "ipython3",
   "version": "3.6.6"
  }
 },
 "nbformat": 4,
 "nbformat_minor": 2
}
